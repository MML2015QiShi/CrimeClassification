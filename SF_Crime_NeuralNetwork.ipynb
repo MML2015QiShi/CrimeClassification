{
 "cells": [
  {
   "cell_type": "code",
   "execution_count": 27,
   "metadata": {
    "collapsed": true
   },
   "outputs": [],
   "source": [
    "import csv\n",
    "import gzip\n",
    "import pandas as pd\n",
    "import numpy as np\n",
    "###\n",
    "from keras.layers.advanced_activations import PReLU\n",
    "from keras.layers.core import Dense, Dropout, Activation\n",
    "from keras.layers.normalization import BatchNormalization\n",
    "from keras.models import Sequential\n",
    "from keras.utils import np_utils\n",
    "from sklearn import metrics\n",
    "from sklearn.cross_validation import KFold\n",
    "from sklearn.preprocessing import StandardScaler"
   ]
  },
  {
   "cell_type": "code",
   "execution_count": 2,
   "metadata": {
    "collapsed": true
   },
   "outputs": [],
   "source": [
    "def get_data(fn):\n",
    "    return pd.read_csv(fn, header=0)"
   ]
  },
  {
   "cell_type": "code",
   "execution_count": 3,
   "metadata": {
    "collapsed": true
   },
   "outputs": [],
   "source": [
    "def timing(time):\n",
    "    time = time.split(':')\n",
    "    time = int(time[0]) * 60 + int(time[1])\n",
    "    return time"
   ]
  },
  {
   "cell_type": "code",
   "execution_count": 4,
   "metadata": {
    "collapsed": true
   },
   "outputs": [],
   "source": [
    "days = ['Monday', 'Tuesday', 'Wednesday', 'Thursday', 'Friday', 'Saturday', 'Sunday']\n",
    "districts = ['BAYVIEW', 'CENTRAL', 'INGLESIDE', 'MISSION', 'NORTHERN', 'PARK', 'RICHMOND', 'SOUTHERN', 'TARAVAL', 'TENDERLOIN']\n",
    "labels = 'ARSON,ASSAULT,BAD CHECKS,BRIBERY,BURGLARY,DISORDERLY CONDUCT,DRIVING UNDER THE INFLUENCE,DRUG/NARCOTIC,DRUNKENNESS,EMBEZZLEMENT,EXTORTION,FAMILY OFFENSES,FORGERY/COUNTERFEITING,FRAUD,GAMBLING,KIDNAPPING,LARCENY/THEFT,LIQUOR LAWS,LOITERING,MISSING PERSON,NON-CRIMINAL,OTHER OFFENSES,PORNOGRAPHY/OBSCENE MAT,PROSTITUTION,RECOVERED VEHICLE,ROBBERY,RUNAWAY,SECONDARY CODES,SEX OFFENSES FORCIBLE,SEX OFFENSES NON FORCIBLE,STOLEN PROPERTY,SUICIDE,SUSPICIOUS OCC,TREA,TRESPASS,VANDALISM,VEHICLE THEFT,WARRANTS,WEAPON LAWS'.split(',')"
   ]
  },
  {
   "cell_type": "code",
   "execution_count": 5,
   "metadata": {
    "collapsed": false
   },
   "outputs": [],
   "source": [
    "raw_train = get_data('data/train.csv')"
   ]
  },
  {
   "cell_type": "code",
   "execution_count": 6,
   "metadata": {
    "collapsed": false
   },
   "outputs": [],
   "source": [
    "raw_train['Street']=[[w for w in row.split() if w.isupper() and len(w)>2] for row in raw_train['Address']]\n",
    "raw_train['Days']=pd.Categorical.from_array(raw_train['DayOfWeek']).codes\n",
    "raw_train['Districts']=pd.Categorical.from_array(raw_train['PdDistrict']).codes\n",
    "raw_train['Labels']=pd.Categorical.from_array(raw_train['Category']).codes"
   ]
  },
  {
   "cell_type": "code",
   "execution_count": 7,
   "metadata": {
    "collapsed": false
   },
   "outputs": [],
   "source": [
    "Dates = pd.DataFrame(raw_train['Dates'].str.split(' ',1).tolist(),columns = ['Date','Time'])"
   ]
  },
  {
   "cell_type": "code",
   "execution_count": 8,
   "metadata": {
    "collapsed": false
   },
   "outputs": [],
   "source": [
    "Date = pd.DataFrame(Dates['Date'].str.split('/').tolist(),columns = ['Month','Date','Year'])"
   ]
  },
  {
   "cell_type": "code",
   "execution_count": 9,
   "metadata": {
    "collapsed": false,
    "scrolled": false
   },
   "outputs": [],
   "source": [
    "Dates['Time'] = Dates['Time'].apply(timing)"
   ]
  },
  {
   "cell_type": "code",
   "execution_count": 10,
   "metadata": {
    "collapsed": false
   },
   "outputs": [],
   "source": [
    "raw_train = pd.concat([raw_train,Date], axis =1)"
   ]
  },
  {
   "cell_type": "code",
   "execution_count": 11,
   "metadata": {
    "collapsed": false
   },
   "outputs": [],
   "source": [
    "raw_train['Time']=Dates['Time']"
   ]
  },
  {
   "cell_type": "code",
   "execution_count": 12,
   "metadata": {
    "collapsed": false,
    "scrolled": true
   },
   "outputs": [],
   "source": [
    "X = raw_train.drop(['Dates','Category','Descript','DayOfWeek','PdDistrict','Resolution','Address','Street','Labels'],axis=1)"
   ]
  },
  {
   "cell_type": "code",
   "execution_count": 13,
   "metadata": {
    "collapsed": true
   },
   "outputs": [],
   "source": [
    "y = raw_train.ix[:,'Labels']"
   ]
  },
  {
   "cell_type": "code",
   "execution_count": 14,
   "metadata": {
    "collapsed": true
   },
   "outputs": [],
   "source": [
    "Y = np_utils.to_categorical(y)"
   ]
  },
  {
   "cell_type": "code",
   "execution_count": 15,
   "metadata": {
    "collapsed": false
   },
   "outputs": [
    {
     "name": "stdout",
     "output_type": "stream",
     "text": [
      "Input dimensions: 8\n",
      "Output dimensions: 39\n"
     ]
    }
   ],
   "source": [
    "input_dim = X.shape[1]\n",
    "output_dim = len(labels)\n",
    "print('Input dimensions: {}'.format(input_dim))\n",
    "print('Output dimensions: {}'.format(output_dim))"
   ]
  },
  {
   "cell_type": "code",
   "execution_count": 16,
   "metadata": {
    "collapsed": true
   },
   "outputs": [],
   "source": [
    "def build_model(input_dim, output_dim, hn=32, dp=0.5, layers=1):\n",
    "    model = Sequential()\n",
    "    model.add(Dense(input_dim, hn, init='glorot_uniform'))\n",
    "    model.add(PReLU((hn,)))\n",
    "    model.add(Dropout(dp))\n",
    "\n",
    "    for i in range(layers):\n",
    "        model.add(Dense(hn, hn, init='glorot_uniform'))\n",
    "        model.add(PReLU((hn,)))\n",
    "        model.add(BatchNormalization((hn,)))\n",
    "        model.add(Dropout(dp))\n",
    "\n",
    "    model.add(Dense(hn, output_dim, init='glorot_uniform'))\n",
    "    model.add(Activation('softmax'))\n",
    "\n",
    "    model.compile(loss='categorical_crossentropy', optimizer='adam')\n",
    "    return model"
   ]
  },
  {
   "cell_type": "code",
   "execution_count": 17,
   "metadata": {
    "collapsed": false
   },
   "outputs": [],
   "source": [
    "EPOCHS = 1\n",
    "BATCHES = 128\n",
    "HN = 64\n",
    "RUN_FOLDS = False\n",
    "nb_folds = 4\n",
    "kfolds = KFold(len(y), nb_folds)\n",
    "av_ll = 0.\n",
    "f = 0\n",
    "if RUN_FOLDS:\n",
    "      for train, valid in kfolds:\n",
    "            print('---' * 20)\n",
    "            print('Fold', f)\n",
    "            print('---' * 20)\n",
    "            f += 1\n",
    "            X_train = X[train]\n",
    "            X_valid = X[valid]\n",
    "            Y_train = Y[train]\n",
    "            Y_valid = Y[valid]\n",
    "            y_valid = y[valid]\n",
    "\n",
    "            print(\"Building model...\")\n",
    "            model = build_model(input_dim, output_dim, HN)\n",
    "\n",
    "            print(\"Training model...\")\n",
    "\n",
    "            model.fit(X_train, Y_train, nb_epoch=EPOCHS, batch_size=BATCHES, validation_data=(X_valid, Y_valid), verbose=0)\n",
    "            valid_preds = model.predict_proba(X_valid)\n",
    "            ll = metrics.log_loss(y_valid, valid_preds)\n",
    "            print(\"LL:\", ll)\n",
    "            av_ll += ll\n",
    "            print('Average LL:', av_ll / nb_folds)"
   ]
  },
  {
   "cell_type": "code",
   "execution_count": 18,
   "metadata": {
    "collapsed": false
   },
   "outputs": [],
   "source": [
    "def preprocess_data(X, scaler=None):\n",
    "    if not scaler:\n",
    "        scaler = StandardScaler()\n",
    "        scaler.fit(X)\n",
    "        X = scaler.transform(X)\n",
    "    return X, scaler\n",
    "X, scaler = preprocess_data(X)"
   ]
  },
  {
   "cell_type": "code",
   "execution_count": 19,
   "metadata": {
    "collapsed": false
   },
   "outputs": [
    {
     "name": "stdout",
     "output_type": "stream",
     "text": [
      "Generating submission...\n"
     ]
    },
    {
     "data": {
      "text/plain": [
       "<keras.callbacks.History at 0x1132edb50>"
      ]
     },
     "execution_count": 19,
     "metadata": {},
     "output_type": "execute_result"
    }
   ],
   "source": [
    "print(\"Generating submission...\")\n",
    "\n",
    "model = build_model(input_dim, output_dim, HN)\n",
    "model.fit(X, Y, nb_epoch=EPOCHS, batch_size=BATCHES, verbose=0)"
   ]
  },
  {
   "cell_type": "code",
   "execution_count": 20,
   "metadata": {
    "collapsed": true
   },
   "outputs": [],
   "source": [
    "raw_test = get_data('data/test.csv')"
   ]
  },
  {
   "cell_type": "code",
   "execution_count": 21,
   "metadata": {
    "collapsed": false
   },
   "outputs": [],
   "source": [
    "raw_test['Days']=pd.Categorical.from_array(raw_test['DayOfWeek']).codes\n",
    "raw_test['Districts']=pd.Categorical.from_array(raw_test['PdDistrict']).codes\n",
    "\n",
    "Dates = pd.DataFrame(raw_test['Dates'].str.split(' ',1).tolist(),columns = ['Date','Time'])\n",
    "Date = pd.DataFrame(Dates['Date'].str.split('/').tolist(),columns = ['Month','Date','Year'])\n",
    "Dates['Time'] = Dates['Time'].apply(timing)\n",
    "raw_test = pd.concat([raw_test,Date], axis =1)\n",
    "raw_test['Time']=Dates['Time']"
   ]
  },
  {
   "cell_type": "code",
   "execution_count": 22,
   "metadata": {
    "collapsed": true
   },
   "outputs": [],
   "source": [
    "test_X = raw_test.drop(['Id','Dates','DayOfWeek','PdDistrict','Address'],axis=1)"
   ]
  },
  {
   "cell_type": "code",
   "execution_count": 25,
   "metadata": {
    "collapsed": false
   },
   "outputs": [],
   "source": [
    "test_X, scaler = preprocess_data(test_X)"
   ]
  },
  {
   "cell_type": "code",
   "execution_count": 28,
   "metadata": {
    "collapsed": false
   },
   "outputs": [
    {
     "name": "stdout",
     "output_type": "stream",
     "text": [
      "Predicting over testing data...\n"
     ]
    }
   ],
   "source": [
    "print('Predicting over testing data...')\n",
    "preds = model.predict_proba(test_X, verbose=0)\n",
    "\n",
    "with gzip.open('sf-nn.csv.gz', 'wt') as outf:\n",
    "  fo = csv.writer(outf, lineterminator='\\n')\n",
    "  fo.writerow(['Id'] + labels)\n",
    "\n",
    "  for i, pred in enumerate(preds):\n",
    "    fo.writerow([i] + list(pred))"
   ]
  },
  {
   "cell_type": "code",
   "execution_count": null,
   "metadata": {
    "collapsed": true
   },
   "outputs": [],
   "source": []
  }
 ],
 "metadata": {
  "kernelspec": {
   "display_name": "Python 2",
   "language": "python",
   "name": "python2"
  },
  "language_info": {
   "codemirror_mode": {
    "name": "ipython",
    "version": 2
   },
   "file_extension": ".py",
   "mimetype": "text/x-python",
   "name": "python",
   "nbconvert_exporter": "python",
   "pygments_lexer": "ipython2",
   "version": "2.7.10"
  }
 },
 "nbformat": 4,
 "nbformat_minor": 0
}
